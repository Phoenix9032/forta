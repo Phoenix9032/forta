{
 "cells": [
  {
   "cell_type": "markdown",
   "metadata": {},
   "source": [
    "# Benchmark Model: EasyEnsemble Features Folds and reduced data \n",
    "\n",
    "Features and model set-up were inspired by Chen, Weili, et al. “Phishing Scam Detection on Ethereum: Towards Financial Security for Blockchain Ecosystem.”\n",
    "\n",
    "Proceedings of the Twenty-Ninth International Joint Conference on Artificial Intelligence, 2020, https://doi.org/10.24963/ijcai.2020/621."
   ]
  },
  {
   "cell_type": "code",
   "execution_count": 1,
   "metadata": {
    "execution": {
     "iopub.execute_input": "2022-09-11T09:12:47.211651Z",
     "iopub.status.busy": "2022-09-11T09:12:47.211091Z",
     "iopub.status.idle": "2022-09-11T09:12:49.855419Z",
     "shell.execute_reply": "2022-09-11T09:12:49.854024Z",
     "shell.execute_reply.started": "2022-09-11T09:12:47.211536Z"
    },
    "tags": []
   },
   "outputs": [],
   "source": [
    "from psutil import cpu_count\n",
    "\n",
    "import dask.dataframe as dd\n",
    "from dask.distributed import Client\n",
    "\n",
    "from imblearn.ensemble import EasyEnsembleClassifier\n",
    "import numpy as np\n",
    "import pandas as pd\n",
    "from sklearn.metrics import average_precision_score\n",
    "from sklearn.metrics import classification_report\n",
    "from sklearn.model_selection import train_test_split\n",
    "from xgboost import XGBClassifier\n",
    "import gc\n",
    "import lightgbm as lgb\n"
   ]
  },
  {
   "cell_type": "code",
   "execution_count": 2,
   "metadata": {
    "execution": {
     "iopub.execute_input": "2022-09-11T09:12:55.939998Z",
     "iopub.status.busy": "2022-09-11T09:12:55.939506Z",
     "iopub.status.idle": "2022-09-11T09:12:58.900763Z",
     "shell.execute_reply": "2022-09-11T09:12:58.899095Z",
     "shell.execute_reply.started": "2022-09-11T09:12:55.939960Z"
    },
    "tags": []
   },
   "outputs": [
    {
     "name": "stderr",
     "output_type": "stream",
     "text": [
      "/usr/local/lib/python3.8/dist-packages/distributed/node.py:182: UserWarning: Port 8787 is already in use.\n",
      "Perhaps you already have a cluster running?\n",
      "Hosting the HTTP server on port 42045 instead\n",
      "  warnings.warn(\n"
     ]
    },
    {
     "data": {
      "text/html": [
       "<div>\n",
       "    <div style=\"width: 24px; height: 24px; background-color: #e1e1e1; border: 3px solid #9D9D9D; border-radius: 5px; position: absolute;\"> </div>\n",
       "    <div style=\"margin-left: 48px;\">\n",
       "        <h3 style=\"margin-bottom: 0px;\">Client</h3>\n",
       "        <p style=\"color: #9D9D9D; margin-bottom: 0px;\">Client-d9f4e3e9-78ad-11ed-845f-0242ac110003</p>\n",
       "        <table style=\"width: 100%; text-align: left;\">\n",
       "\n",
       "        <tr>\n",
       "        \n",
       "            <td style=\"text-align: left;\"><strong>Connection method:</strong> Cluster object</td>\n",
       "            <td style=\"text-align: left;\"><strong>Cluster type:</strong> distributed.LocalCluster</td>\n",
       "        \n",
       "        </tr>\n",
       "\n",
       "        \n",
       "            <tr>\n",
       "                <td style=\"text-align: left;\">\n",
       "                    <strong>Dashboard: </strong> <a href=\"http://127.0.0.1:42045/status\" target=\"_blank\">http://127.0.0.1:42045/status</a>\n",
       "                </td>\n",
       "                <td style=\"text-align: left;\"></td>\n",
       "            </tr>\n",
       "        \n",
       "\n",
       "        </table>\n",
       "\n",
       "        \n",
       "\n",
       "        \n",
       "            <details>\n",
       "            <summary style=\"margin-bottom: 20px;\"><h3 style=\"display: inline;\">Cluster Info</h3></summary>\n",
       "            <div class=\"jp-RenderedHTMLCommon jp-RenderedHTML jp-mod-trusted jp-OutputArea-output\">\n",
       "    <div style=\"width: 24px; height: 24px; background-color: #e1e1e1; border: 3px solid #9D9D9D; border-radius: 5px; position: absolute;\">\n",
       "    </div>\n",
       "    <div style=\"margin-left: 48px;\">\n",
       "        <h3 style=\"margin-bottom: 0px; margin-top: 0px;\">LocalCluster</h3>\n",
       "        <p style=\"color: #9D9D9D; margin-bottom: 0px;\">00258ca1</p>\n",
       "        <table style=\"width: 100%; text-align: left;\">\n",
       "            <tr>\n",
       "                <td style=\"text-align: left;\">\n",
       "                    <strong>Dashboard:</strong> <a href=\"http://127.0.0.1:42045/status\" target=\"_blank\">http://127.0.0.1:42045/status</a>\n",
       "                </td>\n",
       "                <td style=\"text-align: left;\">\n",
       "                    <strong>Workers:</strong> 6\n",
       "                </td>\n",
       "            </tr>\n",
       "            <tr>\n",
       "                <td style=\"text-align: left;\">\n",
       "                    <strong>Total threads:</strong> 24\n",
       "                </td>\n",
       "                <td style=\"text-align: left;\">\n",
       "                    <strong>Total memory:</strong> 119.55 GiB\n",
       "                </td>\n",
       "            </tr>\n",
       "            \n",
       "            <tr>\n",
       "    <td style=\"text-align: left;\"><strong>Status:</strong> running</td>\n",
       "    <td style=\"text-align: left;\"><strong>Using processes:</strong> True</td>\n",
       "</tr>\n",
       "\n",
       "            \n",
       "        </table>\n",
       "\n",
       "        <details>\n",
       "            <summary style=\"margin-bottom: 20px;\">\n",
       "                <h3 style=\"display: inline;\">Scheduler Info</h3>\n",
       "            </summary>\n",
       "\n",
       "            <div style=\"\">\n",
       "    <div>\n",
       "        <div style=\"width: 24px; height: 24px; background-color: #FFF7E5; border: 3px solid #FF6132; border-radius: 5px; position: absolute;\"> </div>\n",
       "        <div style=\"margin-left: 48px;\">\n",
       "            <h3 style=\"margin-bottom: 0px;\">Scheduler</h3>\n",
       "            <p style=\"color: #9D9D9D; margin-bottom: 0px;\">Scheduler-44ffa4d4-cbf2-4041-aeb0-40ca27d6041b</p>\n",
       "            <table style=\"width: 100%; text-align: left;\">\n",
       "                <tr>\n",
       "                    <td style=\"text-align: left;\">\n",
       "                        <strong>Comm:</strong> tcp://127.0.0.1:40353\n",
       "                    </td>\n",
       "                    <td style=\"text-align: left;\">\n",
       "                        <strong>Workers:</strong> 6\n",
       "                    </td>\n",
       "                </tr>\n",
       "                <tr>\n",
       "                    <td style=\"text-align: left;\">\n",
       "                        <strong>Dashboard:</strong> <a href=\"http://127.0.0.1:42045/status\" target=\"_blank\">http://127.0.0.1:42045/status</a>\n",
       "                    </td>\n",
       "                    <td style=\"text-align: left;\">\n",
       "                        <strong>Total threads:</strong> 24\n",
       "                    </td>\n",
       "                </tr>\n",
       "                <tr>\n",
       "                    <td style=\"text-align: left;\">\n",
       "                        <strong>Started:</strong> Just now\n",
       "                    </td>\n",
       "                    <td style=\"text-align: left;\">\n",
       "                        <strong>Total memory:</strong> 119.55 GiB\n",
       "                    </td>\n",
       "                </tr>\n",
       "            </table>\n",
       "        </div>\n",
       "    </div>\n",
       "\n",
       "    <details style=\"margin-left: 48px;\">\n",
       "        <summary style=\"margin-bottom: 20px;\">\n",
       "            <h3 style=\"display: inline;\">Workers</h3>\n",
       "        </summary>\n",
       "\n",
       "        \n",
       "        <div style=\"margin-bottom: 20px;\">\n",
       "            <div style=\"width: 24px; height: 24px; background-color: #DBF5FF; border: 3px solid #4CC9FF; border-radius: 5px; position: absolute;\"> </div>\n",
       "            <div style=\"margin-left: 48px;\">\n",
       "            <details>\n",
       "                <summary>\n",
       "                    <h4 style=\"margin-bottom: 0px; display: inline;\">Worker: 0</h4>\n",
       "                </summary>\n",
       "                <table style=\"width: 100%; text-align: left;\">\n",
       "                    <tr>\n",
       "                        <td style=\"text-align: left;\">\n",
       "                            <strong>Comm: </strong> tcp://127.0.0.1:44827\n",
       "                        </td>\n",
       "                        <td style=\"text-align: left;\">\n",
       "                            <strong>Total threads: </strong> 4\n",
       "                        </td>\n",
       "                    </tr>\n",
       "                    <tr>\n",
       "                        <td style=\"text-align: left;\">\n",
       "                            <strong>Dashboard: </strong> <a href=\"http://127.0.0.1:43095/status\" target=\"_blank\">http://127.0.0.1:43095/status</a>\n",
       "                        </td>\n",
       "                        <td style=\"text-align: left;\">\n",
       "                            <strong>Memory: </strong> 19.92 GiB\n",
       "                        </td>\n",
       "                    </tr>\n",
       "                    <tr>\n",
       "                        <td style=\"text-align: left;\">\n",
       "                            <strong>Nanny: </strong> tcp://127.0.0.1:34857\n",
       "                        </td>\n",
       "                        <td style=\"text-align: left;\"></td>\n",
       "                    </tr>\n",
       "                    <tr>\n",
       "                        <td colspan=\"2\" style=\"text-align: left;\">\n",
       "                            <strong>Local directory: </strong> /tmp/dask-worker-space/worker-ydaqjkoq\n",
       "                        </td>\n",
       "                    </tr>\n",
       "\n",
       "                    \n",
       "\n",
       "                    \n",
       "\n",
       "                </table>\n",
       "            </details>\n",
       "            </div>\n",
       "        </div>\n",
       "        \n",
       "        <div style=\"margin-bottom: 20px;\">\n",
       "            <div style=\"width: 24px; height: 24px; background-color: #DBF5FF; border: 3px solid #4CC9FF; border-radius: 5px; position: absolute;\"> </div>\n",
       "            <div style=\"margin-left: 48px;\">\n",
       "            <details>\n",
       "                <summary>\n",
       "                    <h4 style=\"margin-bottom: 0px; display: inline;\">Worker: 1</h4>\n",
       "                </summary>\n",
       "                <table style=\"width: 100%; text-align: left;\">\n",
       "                    <tr>\n",
       "                        <td style=\"text-align: left;\">\n",
       "                            <strong>Comm: </strong> tcp://127.0.0.1:38895\n",
       "                        </td>\n",
       "                        <td style=\"text-align: left;\">\n",
       "                            <strong>Total threads: </strong> 4\n",
       "                        </td>\n",
       "                    </tr>\n",
       "                    <tr>\n",
       "                        <td style=\"text-align: left;\">\n",
       "                            <strong>Dashboard: </strong> <a href=\"http://127.0.0.1:42793/status\" target=\"_blank\">http://127.0.0.1:42793/status</a>\n",
       "                        </td>\n",
       "                        <td style=\"text-align: left;\">\n",
       "                            <strong>Memory: </strong> 19.92 GiB\n",
       "                        </td>\n",
       "                    </tr>\n",
       "                    <tr>\n",
       "                        <td style=\"text-align: left;\">\n",
       "                            <strong>Nanny: </strong> tcp://127.0.0.1:44249\n",
       "                        </td>\n",
       "                        <td style=\"text-align: left;\"></td>\n",
       "                    </tr>\n",
       "                    <tr>\n",
       "                        <td colspan=\"2\" style=\"text-align: left;\">\n",
       "                            <strong>Local directory: </strong> /tmp/dask-worker-space/worker-bnyjp3o2\n",
       "                        </td>\n",
       "                    </tr>\n",
       "\n",
       "                    \n",
       "\n",
       "                    \n",
       "\n",
       "                </table>\n",
       "            </details>\n",
       "            </div>\n",
       "        </div>\n",
       "        \n",
       "        <div style=\"margin-bottom: 20px;\">\n",
       "            <div style=\"width: 24px; height: 24px; background-color: #DBF5FF; border: 3px solid #4CC9FF; border-radius: 5px; position: absolute;\"> </div>\n",
       "            <div style=\"margin-left: 48px;\">\n",
       "            <details>\n",
       "                <summary>\n",
       "                    <h4 style=\"margin-bottom: 0px; display: inline;\">Worker: 2</h4>\n",
       "                </summary>\n",
       "                <table style=\"width: 100%; text-align: left;\">\n",
       "                    <tr>\n",
       "                        <td style=\"text-align: left;\">\n",
       "                            <strong>Comm: </strong> tcp://127.0.0.1:37451\n",
       "                        </td>\n",
       "                        <td style=\"text-align: left;\">\n",
       "                            <strong>Total threads: </strong> 4\n",
       "                        </td>\n",
       "                    </tr>\n",
       "                    <tr>\n",
       "                        <td style=\"text-align: left;\">\n",
       "                            <strong>Dashboard: </strong> <a href=\"http://127.0.0.1:36175/status\" target=\"_blank\">http://127.0.0.1:36175/status</a>\n",
       "                        </td>\n",
       "                        <td style=\"text-align: left;\">\n",
       "                            <strong>Memory: </strong> 19.92 GiB\n",
       "                        </td>\n",
       "                    </tr>\n",
       "                    <tr>\n",
       "                        <td style=\"text-align: left;\">\n",
       "                            <strong>Nanny: </strong> tcp://127.0.0.1:44487\n",
       "                        </td>\n",
       "                        <td style=\"text-align: left;\"></td>\n",
       "                    </tr>\n",
       "                    <tr>\n",
       "                        <td colspan=\"2\" style=\"text-align: left;\">\n",
       "                            <strong>Local directory: </strong> /tmp/dask-worker-space/worker-ken155pi\n",
       "                        </td>\n",
       "                    </tr>\n",
       "\n",
       "                    \n",
       "\n",
       "                    \n",
       "\n",
       "                </table>\n",
       "            </details>\n",
       "            </div>\n",
       "        </div>\n",
       "        \n",
       "        <div style=\"margin-bottom: 20px;\">\n",
       "            <div style=\"width: 24px; height: 24px; background-color: #DBF5FF; border: 3px solid #4CC9FF; border-radius: 5px; position: absolute;\"> </div>\n",
       "            <div style=\"margin-left: 48px;\">\n",
       "            <details>\n",
       "                <summary>\n",
       "                    <h4 style=\"margin-bottom: 0px; display: inline;\">Worker: 3</h4>\n",
       "                </summary>\n",
       "                <table style=\"width: 100%; text-align: left;\">\n",
       "                    <tr>\n",
       "                        <td style=\"text-align: left;\">\n",
       "                            <strong>Comm: </strong> tcp://127.0.0.1:36791\n",
       "                        </td>\n",
       "                        <td style=\"text-align: left;\">\n",
       "                            <strong>Total threads: </strong> 4\n",
       "                        </td>\n",
       "                    </tr>\n",
       "                    <tr>\n",
       "                        <td style=\"text-align: left;\">\n",
       "                            <strong>Dashboard: </strong> <a href=\"http://127.0.0.1:38321/status\" target=\"_blank\">http://127.0.0.1:38321/status</a>\n",
       "                        </td>\n",
       "                        <td style=\"text-align: left;\">\n",
       "                            <strong>Memory: </strong> 19.92 GiB\n",
       "                        </td>\n",
       "                    </tr>\n",
       "                    <tr>\n",
       "                        <td style=\"text-align: left;\">\n",
       "                            <strong>Nanny: </strong> tcp://127.0.0.1:34865\n",
       "                        </td>\n",
       "                        <td style=\"text-align: left;\"></td>\n",
       "                    </tr>\n",
       "                    <tr>\n",
       "                        <td colspan=\"2\" style=\"text-align: left;\">\n",
       "                            <strong>Local directory: </strong> /tmp/dask-worker-space/worker-4lvp6i2e\n",
       "                        </td>\n",
       "                    </tr>\n",
       "\n",
       "                    \n",
       "\n",
       "                    \n",
       "\n",
       "                </table>\n",
       "            </details>\n",
       "            </div>\n",
       "        </div>\n",
       "        \n",
       "        <div style=\"margin-bottom: 20px;\">\n",
       "            <div style=\"width: 24px; height: 24px; background-color: #DBF5FF; border: 3px solid #4CC9FF; border-radius: 5px; position: absolute;\"> </div>\n",
       "            <div style=\"margin-left: 48px;\">\n",
       "            <details>\n",
       "                <summary>\n",
       "                    <h4 style=\"margin-bottom: 0px; display: inline;\">Worker: 4</h4>\n",
       "                </summary>\n",
       "                <table style=\"width: 100%; text-align: left;\">\n",
       "                    <tr>\n",
       "                        <td style=\"text-align: left;\">\n",
       "                            <strong>Comm: </strong> tcp://127.0.0.1:46601\n",
       "                        </td>\n",
       "                        <td style=\"text-align: left;\">\n",
       "                            <strong>Total threads: </strong> 4\n",
       "                        </td>\n",
       "                    </tr>\n",
       "                    <tr>\n",
       "                        <td style=\"text-align: left;\">\n",
       "                            <strong>Dashboard: </strong> <a href=\"http://127.0.0.1:40987/status\" target=\"_blank\">http://127.0.0.1:40987/status</a>\n",
       "                        </td>\n",
       "                        <td style=\"text-align: left;\">\n",
       "                            <strong>Memory: </strong> 19.92 GiB\n",
       "                        </td>\n",
       "                    </tr>\n",
       "                    <tr>\n",
       "                        <td style=\"text-align: left;\">\n",
       "                            <strong>Nanny: </strong> tcp://127.0.0.1:46495\n",
       "                        </td>\n",
       "                        <td style=\"text-align: left;\"></td>\n",
       "                    </tr>\n",
       "                    <tr>\n",
       "                        <td colspan=\"2\" style=\"text-align: left;\">\n",
       "                            <strong>Local directory: </strong> /tmp/dask-worker-space/worker-ut0jeu_l\n",
       "                        </td>\n",
       "                    </tr>\n",
       "\n",
       "                    \n",
       "\n",
       "                    \n",
       "\n",
       "                </table>\n",
       "            </details>\n",
       "            </div>\n",
       "        </div>\n",
       "        \n",
       "        <div style=\"margin-bottom: 20px;\">\n",
       "            <div style=\"width: 24px; height: 24px; background-color: #DBF5FF; border: 3px solid #4CC9FF; border-radius: 5px; position: absolute;\"> </div>\n",
       "            <div style=\"margin-left: 48px;\">\n",
       "            <details>\n",
       "                <summary>\n",
       "                    <h4 style=\"margin-bottom: 0px; display: inline;\">Worker: 5</h4>\n",
       "                </summary>\n",
       "                <table style=\"width: 100%; text-align: left;\">\n",
       "                    <tr>\n",
       "                        <td style=\"text-align: left;\">\n",
       "                            <strong>Comm: </strong> tcp://127.0.0.1:42131\n",
       "                        </td>\n",
       "                        <td style=\"text-align: left;\">\n",
       "                            <strong>Total threads: </strong> 4\n",
       "                        </td>\n",
       "                    </tr>\n",
       "                    <tr>\n",
       "                        <td style=\"text-align: left;\">\n",
       "                            <strong>Dashboard: </strong> <a href=\"http://127.0.0.1:45619/status\" target=\"_blank\">http://127.0.0.1:45619/status</a>\n",
       "                        </td>\n",
       "                        <td style=\"text-align: left;\">\n",
       "                            <strong>Memory: </strong> 19.92 GiB\n",
       "                        </td>\n",
       "                    </tr>\n",
       "                    <tr>\n",
       "                        <td style=\"text-align: left;\">\n",
       "                            <strong>Nanny: </strong> tcp://127.0.0.1:34553\n",
       "                        </td>\n",
       "                        <td style=\"text-align: left;\"></td>\n",
       "                    </tr>\n",
       "                    <tr>\n",
       "                        <td colspan=\"2\" style=\"text-align: left;\">\n",
       "                            <strong>Local directory: </strong> /tmp/dask-worker-space/worker-5w8_afj6\n",
       "                        </td>\n",
       "                    </tr>\n",
       "\n",
       "                    \n",
       "\n",
       "                    \n",
       "\n",
       "                </table>\n",
       "            </details>\n",
       "            </div>\n",
       "        </div>\n",
       "        \n",
       "\n",
       "    </details>\n",
       "</div>\n",
       "\n",
       "        </details>\n",
       "    </div>\n",
       "</div>\n",
       "            </details>\n",
       "        \n",
       "\n",
       "    </div>\n",
       "</div>"
      ],
      "text/plain": [
       "<Client: 'tcp://127.0.0.1:40353' processes=6 threads=24, memory=119.55 GiB>"
      ]
     },
     "execution_count": 2,
     "metadata": {},
     "output_type": "execute_result"
    }
   ],
   "source": [
    "client = Client()\n",
    "client"
   ]
  },
  {
   "cell_type": "code",
   "execution_count": 3,
   "metadata": {
    "execution": {
     "iopub.execute_input": "2022-09-11T09:13:08.525059Z",
     "iopub.status.busy": "2022-09-11T09:13:08.524514Z",
     "iopub.status.idle": "2022-09-11T09:13:08.664662Z",
     "shell.execute_reply": "2022-09-11T09:13:08.662496Z",
     "shell.execute_reply.started": "2022-09-11T09:13:08.524998Z"
    },
    "tags": []
   },
   "outputs": [],
   "source": [
    "# Get transaction data\n",
    "data_dir = './forta-protect-web3/input/'\n",
    "TX_DTYPES = {'receipt_contract_address': 'category',\n",
    "             'receipt_root': 'category',\n",
    "             'receipt_status': 'float32',\n",
    "             'value': 'category'}\n",
    "\n",
    "train_dfs = dd.read_csv(f'{data_dir}/eoa_tx_train/eoa_tx_train/*.csv', dtype=TX_DTYPES)\n",
    "test_dfs = dd.read_csv(f'{data_dir}/eoa_tx_test/eoa_tx_test/*.csv', dtype=TX_DTYPES)"
   ]
  },
  {
   "cell_type": "code",
   "execution_count": 4,
   "metadata": {
    "execution": {
     "iopub.execute_input": "2022-09-11T09:13:14.052330Z",
     "iopub.status.busy": "2022-09-11T09:13:14.051836Z",
     "iopub.status.idle": "2022-09-11T09:13:17.587476Z",
     "shell.execute_reply": "2022-09-11T09:13:17.584322Z",
     "shell.execute_reply.started": "2022-09-11T09:13:14.052295Z"
    },
    "tags": []
   },
   "outputs": [],
   "source": [
    "# Get training ground truth values and ids\n",
    "train_ids = pd.read_csv(f'{data_dir}/train.csv')\n",
    "test_ids = pd.read_csv(f'{data_dir}/test.csv')"
   ]
  },
  {
   "cell_type": "code",
   "execution_count": 5,
   "metadata": {},
   "outputs": [],
   "source": [
    "train_ids_pos = train_ids[train_ids.target==1].copy()\n",
    "train_ids_neg =train_ids[train_ids.target ==0].sample(n=10000).copy()"
   ]
  },
  {
   "cell_type": "code",
   "execution_count": 6,
   "metadata": {},
   "outputs": [],
   "source": [
    "train_ids = pd.concat([train_ids_pos,train_ids_neg],ignore_index =True)"
   ]
  },
  {
   "cell_type": "code",
   "execution_count": 7,
   "metadata": {},
   "outputs": [],
   "source": [
    "train_ids.reset_index(drop=True,inplace=True)"
   ]
  },
  {
   "cell_type": "code",
   "execution_count": 8,
   "metadata": {},
   "outputs": [
    {
     "data": {
      "text/html": [
       "<div>\n",
       "<style scoped>\n",
       "    .dataframe tbody tr th:only-of-type {\n",
       "        vertical-align: middle;\n",
       "    }\n",
       "\n",
       "    .dataframe tbody tr th {\n",
       "        vertical-align: top;\n",
       "    }\n",
       "\n",
       "    .dataframe thead th {\n",
       "        text-align: right;\n",
       "    }\n",
       "</style>\n",
       "<table border=\"1\" class=\"dataframe\">\n",
       "  <thead>\n",
       "    <tr style=\"text-align: right;\">\n",
       "      <th></th>\n",
       "      <th>address</th>\n",
       "      <th>target</th>\n",
       "      <th>first_tx_timestamp</th>\n",
       "      <th>last_tx_timestamp</th>\n",
       "    </tr>\n",
       "  </thead>\n",
       "  <tbody>\n",
       "    <tr>\n",
       "      <th>4788</th>\n",
       "      <td>0xb0eee1bf305686ecfdaf5ffac67fd7bdaf514d51</td>\n",
       "      <td>0</td>\n",
       "      <td>2015-08-20 04:14:00+00:00</td>\n",
       "      <td>2017-05-24 06:00:00 UTC</td>\n",
       "    </tr>\n",
       "    <tr>\n",
       "      <th>5838</th>\n",
       "      <td>0x285627b2545b2170e23772824f9938cf4747e7d8</td>\n",
       "      <td>0</td>\n",
       "      <td>2016-01-01 18:57:11+00:00</td>\n",
       "      <td>2017-02-24 19:52:41 UTC</td>\n",
       "    </tr>\n",
       "    <tr>\n",
       "      <th>11665</th>\n",
       "      <td>0x008aff4eeb0f269a004fb75045fb5a8fc3fb34cd</td>\n",
       "      <td>0</td>\n",
       "      <td>2016-02-10 17:52:23+00:00</td>\n",
       "      <td>2016-04-27 08:24:59 UTC</td>\n",
       "    </tr>\n",
       "    <tr>\n",
       "      <th>9159</th>\n",
       "      <td>0x3032ddc9c13cd61309b6d2103867c01b431bec0f</td>\n",
       "      <td>0</td>\n",
       "      <td>2016-03-02 12:25:04+00:00</td>\n",
       "      <td>2018-08-02 23:46:15 UTC</td>\n",
       "    </tr>\n",
       "    <tr>\n",
       "      <th>7479</th>\n",
       "      <td>0xf5902f7ce99b914ebcf06826788ae4ea921e75a8</td>\n",
       "      <td>0</td>\n",
       "      <td>2016-03-03 05:31:20+00:00</td>\n",
       "      <td>2021-05-05 12:35:42 UTC</td>\n",
       "    </tr>\n",
       "  </tbody>\n",
       "</table>\n",
       "</div>"
      ],
      "text/plain": [
       "                                          address  target  \\\n",
       "4788   0xb0eee1bf305686ecfdaf5ffac67fd7bdaf514d51       0   \n",
       "5838   0x285627b2545b2170e23772824f9938cf4747e7d8       0   \n",
       "11665  0x008aff4eeb0f269a004fb75045fb5a8fc3fb34cd       0   \n",
       "9159   0x3032ddc9c13cd61309b6d2103867c01b431bec0f       0   \n",
       "7479   0xf5902f7ce99b914ebcf06826788ae4ea921e75a8       0   \n",
       "\n",
       "             first_tx_timestamp        last_tx_timestamp  \n",
       "4788  2015-08-20 04:14:00+00:00  2017-05-24 06:00:00 UTC  \n",
       "5838  2016-01-01 18:57:11+00:00  2017-02-24 19:52:41 UTC  \n",
       "11665 2016-02-10 17:52:23+00:00  2016-04-27 08:24:59 UTC  \n",
       "9159  2016-03-02 12:25:04+00:00  2018-08-02 23:46:15 UTC  \n",
       "7479  2016-03-03 05:31:20+00:00  2021-05-05 12:35:42 UTC  "
      ]
     },
     "execution_count": 8,
     "metadata": {},
     "output_type": "execute_result"
    }
   ],
   "source": [
    "train_ids['first_tx_timestamp'] = pd.to_datetime(train_ids['first_tx_timestamp'], infer_datetime_format=True)\n",
    "train_ids = train_ids.sort_values('first_tx_timestamp')\n",
    "train_ids.head()"
   ]
  },
  {
   "cell_type": "code",
   "execution_count": 9,
   "metadata": {
    "execution": {
     "iopub.execute_input": "2022-09-11T09:15:55.057118Z",
     "iopub.status.busy": "2022-09-11T09:15:55.056607Z",
     "iopub.status.idle": "2022-09-11T09:16:09.387311Z",
     "shell.execute_reply": "2022-09-11T09:16:09.385975Z",
     "shell.execute_reply.started": "2022-09-11T09:15:55.057079Z"
    },
    "tags": []
   },
   "outputs": [],
   "source": [
    "# Get one-order neighbor statistics\n",
    "one_order_dir = f'{data_dir}/one_order/one_order/'\n",
    "\n",
    "OO_DTYPES = {'address': 'category',\n",
    "             'median_value_eth': 'float32',\n",
    "             'min_value_eth': 'float32',\n",
    "             'max_value_eth': 'float32',\n",
    "             'std_pop_value_eth': 'float32',\n",
    "             'avg_value_eth': 'float32',\n",
    "            'sum_value_eth' : 'float32',\n",
    "            'block_time_span': 'int8',\n",
    "            'block_std_pop': 'float32'}\n",
    "\n",
    "# Outgoing transaction value and time related statistics for EOAs’ first-degree neighbors who sent a transaction to the EOAs (aka “from neighbor”)\n",
    "from_out = pd.read_csv(f'{one_order_dir}/one_order_from_out_stats_train.csv',dtype=OO_DTYPES)\n",
    "from_out_test = pd.read_csv(f'{one_order_dir}/one_order_from_out_stats_test.csv',dtype=OO_DTYPES)\n",
    "\n",
    "# Incoming transaction value and time related statistics for EOAs’ first-degree neighbors who received a transaction from the EOAs (aka “to neighbor”)\n",
    "to_in = pd.read_csv(f'{one_order_dir}/one_order_to_in_stats_train.csv',dtype=OO_DTYPES)\n",
    "to_in_test = pd.read_csv(f'{one_order_dir}/one_order_to_in_stats_test.csv',dtype=OO_DTYPES)"
   ]
  },
  {
   "cell_type": "code",
   "execution_count": 10,
   "metadata": {
    "execution": {
     "iopub.execute_input": "2022-09-11T09:16:09.390442Z",
     "iopub.status.busy": "2022-09-11T09:16:09.389638Z",
     "iopub.status.idle": "2022-09-11T09:16:09.415769Z",
     "shell.execute_reply": "2022-09-11T09:16:09.414706Z",
     "shell.execute_reply.started": "2022-09-11T09:16:09.390398Z"
    },
    "tags": []
   },
   "outputs": [],
   "source": [
    "def generate_features(tx_df, labels, from_out, to_in):\n",
    "    # Convert value from WEI to ETH\n",
    "    tx_df['value_eth'] = ('.' + tx_df['value'].str.zfill(18)).astype(float)\n",
    "    incoming = tx_df.merge(labels, how='left', left_on='to_address', right_on='address')\n",
    "    incoming = incoming[incoming['address'].notnull()].compute()\n",
    "    \n",
    "    incoming_agg = incoming.groupby('to_address').agg({'block_number': 'std', \n",
    "                                                       'from_address': ['count', 'nunique'],\n",
    "                                                       'value_eth': ['min', 'mean']}).reset_index()\n",
    "    incoming_agg.columns = [\"_\".join(filter(None, name)) for name in incoming_agg.columns.to_flat_index()]\n",
    "    # in_block_number_std: standard deviation of blockNumber of all incoming transactions for an EOA\n",
    "    # in_value_min: minimum value of all incoming transactions for an EOA\n",
    "    # in_value_mean: mean value of all incoming transactions for an EOA\n",
    "    # from_address_count: total incoming transaction count for an EOA\n",
    "    # from_address_nunique: total incoming transaction from unique address for an EOA\n",
    "    incoming_agg = incoming_agg.rename(columns={'block_number_std': 'in_block_number_std',\n",
    "                                                'value_eth_min': 'in_value_min',\n",
    "                                                'value_eth_mean': 'in_value_mean'})\n",
    "    # from_address_count_unique_ratio: of all incoming transactions, what ratio is unique?\n",
    "    incoming_agg['from_address_count_unique_ratio'] = incoming_agg['from_address_nunique'] / incoming_agg['from_address_count']\n",
    "    # for std with 1 transaction, fill na with 0\n",
    "    # https://stackoverflow.com/questions/32130954/pandas-standard-deviation-returns-nan\n",
    "    incoming_agg['in_block_number_std'] = incoming_agg['in_block_number_std'].fillna(0)\n",
    "    \n",
    "    from_out_agg = incoming[['from_address', 'to_address']].merge(from_out, how='left', left_on='from_address', right_on='address')\n",
    "    from_out_agg = from_out_agg[from_out_agg['address'].notnull()]\n",
    "    from_out_agg = from_out_agg.drop_duplicates(subset=['from_address', 'to_address'])\n",
    "    from_out_agg = from_out_agg.groupby('to_address').agg({'median_value_eth': 'sum',\n",
    "                                                           'min_value_eth': 'sum',\n",
    "                                                           'std_pop_value_eth': 'min',\n",
    "                                                           'block_time_span': 'median',\n",
    "                                                           'block_std_pop': 'median'}).reset_index()\n",
    "    # from_out_sum_min: sum of from friends' outgoing minimum transaction values\n",
    "    # from_out_sum_median: sum of from friends' outgoing median transaction values\n",
    "    # from_out_min_std: min of from friends' outgoing std transaction values\n",
    "    # from_out_block_timespan_median: median of from friends' outgoing transaction timespans\n",
    "    # from_out_block_std_median: median of from friends' outgoing median transaction block number \n",
    "    from_out_agg = from_out_agg.rename(columns={'min_value_eth_sum': 'from_out_sum_min', \n",
    "                                                'median_value_eth_sum': 'from_out_sum_median', \n",
    "                                                'std_pop_value_eth_min': 'from_out_min_std',\n",
    "                                                'block_time_span_median': 'from_out_block_timespan_median',\n",
    "                                                'block_std_pop_median': 'from_out_block_std_median'})\n",
    "    \n",
    "    del incoming\n",
    "    gc.collect()\n",
    "    \n",
    "    outgoing = tx_df.merge(labels, how='left', left_on='from_address', right_on='address')\n",
    "    outgoing = outgoing[outgoing['address'].notnull()].compute()\n",
    "    \n",
    "    # features similar to incoming_agg but for outgoing transactions\n",
    "    outgoing_agg = outgoing.groupby('from_address').agg({'block_number': 'std', \n",
    "                                                         'to_address': ['count', 'nunique'],\n",
    "                                                         'value_eth': ['min', 'mean']}).reset_index()\n",
    "    outgoing_agg.columns = [\"_\".join(filter(None, name)) for name in outgoing_agg.columns.to_flat_index()]\n",
    "    outgoing_agg = outgoing_agg.rename(columns={'block_number_std': 'out_block_number_std',\n",
    "                                                'value_eth_min': 'out_value_min',\n",
    "                                                'value_eth_mean': 'out_value_mean'})\n",
    "    outgoing_agg['out_block_number_std'] = outgoing_agg['out_block_number_std'].fillna(0)\n",
    "    \n",
    "    to_in_agg = outgoing[['from_address', 'to_address']].merge(to_in, how='left', left_on='to_address', right_on='address')\n",
    "    to_in_agg = to_in_agg[to_in_agg['address'].notnull()]\n",
    "    to_in_agg = to_in_agg.drop_duplicates(subset=['from_address', 'to_address'])\n",
    "    to_in_agg = to_in_agg.groupby('from_address').agg({'min_value_eth': ['mean', 'sum'],\n",
    "                                                       'median_value_eth': 'sum',\n",
    "                                                       'std_pop_value_eth': 'min',\n",
    "                                                       'block_time_span': 'median',\n",
    "                                                       'block_std_pop': 'median'}).reset_index()\n",
    "    to_in_agg.columns = [\"_\".join(filter(None, name)) for name in to_in_agg.columns.to_flat_index()]\n",
    "    # to_in_mean_min: mean of to friends' incoming minimum transaction values\n",
    "    # to_in_sum_min: sum of to friends' incoming minimum transaction values\n",
    "    # to_in_sum_median: sum of to friends' incoming median transaction values\n",
    "    # to_in_min_std: min of to friends' incoming std transaction values\n",
    "    # to_in_block_timespan_median: median of to friends' incoming transaction timespans\n",
    "    # to_in_block_std_median: median of to friends' incoming median transaction block number \n",
    "    to_in_agg = to_in_agg.rename(columns={'min_value_eth_mean': 'to_in_mean_min', \n",
    "                                          'min_value_eth_sum': 'to_in_sum_min', \n",
    "                                          'median_value_eth_sum': 'to_in_sum_median', \n",
    "                                          'std_pop_value_eth_min': 'to_in_min_std',\n",
    "                                          'block_time_span_median': 'to_in_block_timespan_median',\n",
    "                                          'block_std_pop_median': 'to_in_block_std_median'})\n",
    "    \n",
    "    del outgoing\n",
    "    gc.collect()\n",
    "    \n",
    "    dt = labels.merge(incoming_agg, how='left', left_on='address', right_on='to_address')\n",
    "    dt = dt.merge(outgoing_agg, how='left', left_on='address', right_on='from_address')\n",
    "    dt = dt.drop(['to_address', 'from_address'], axis=1)\n",
    "    dt = dt.merge(from_out_agg, how='left', left_on='address', right_on='to_address')\n",
    "    dt = dt.merge(to_in_agg, how='left', left_on='address', right_on='from_address')\n",
    "    dt = dt.drop(['to_address', 'from_address'], axis=1)\n",
    "    # total_tx: incoming and outgoing transactions for an EOA\n",
    "    dt['total_tx'] = dt['from_address_count'] + dt['to_address_count']\n",
    "    dt = dt.fillna(0)\n",
    "    del incoming_agg,outgoing_agg,from_out_agg,to_in_agg\n",
    "    gc.collect()\n",
    "    \n",
    "    return dt"
   ]
  },
  {
   "cell_type": "code",
   "execution_count": 11,
   "metadata": {
    "execution": {
     "iopub.execute_input": "2022-09-11T09:16:09.418862Z",
     "iopub.status.busy": "2022-09-11T09:16:09.417976Z",
     "iopub.status.idle": "2022-09-11T09:16:09.433459Z",
     "shell.execute_reply": "2022-09-11T09:16:09.431906Z",
     "shell.execute_reply.started": "2022-09-11T09:16:09.418797Z"
    },
    "tags": []
   },
   "outputs": [],
   "source": [
    "def get_feature_and_labels(features, no_labels=False):\n",
    "    EXCLUDE_COLS = {'target', 'address', 'Id', 'first_tx_timestamp','last_tx_timestamp'}\n",
    "    x_cols = [col for col in features.columns if col not in EXCLUDE_COLS]\n",
    "\n",
    "    X = features[x_cols] \n",
    "    y = None if no_labels else features['target']\n",
    "    \n",
    "    return X, y"
   ]
  },
  {
   "cell_type": "code",
   "execution_count": 12,
   "metadata": {
    "execution": {
     "iopub.execute_input": "2022-09-11T09:16:09.437120Z",
     "iopub.status.busy": "2022-09-11T09:16:09.436629Z"
    },
    "tags": []
   },
   "outputs": [
    {
     "name": "stdout",
     "output_type": "stream",
     "text": [
      "CPU times: user 1min 4s, sys: 6.14 s, total: 1min 10s\n",
      "Wall time: 2min 26s\n"
     ]
    }
   ],
   "source": [
    "%%time\n",
    "train_data = generate_features(train_dfs, train_ids, from_out, to_in)"
   ]
  },
  {
   "cell_type": "code",
   "execution_count": 13,
   "metadata": {},
   "outputs": [],
   "source": [
    "X, y = get_feature_and_labels(train_data)"
   ]
  },
  {
   "cell_type": "code",
   "execution_count": 14,
   "metadata": {},
   "outputs": [],
   "source": [
    "RANDOM_SEED = 42\n",
    "X_train, X_val, y_train, y_val = train_test_split(X, y, \n",
    "                                                  test_size=0.1, \n",
    "                                                  random_state=RANDOM_SEED,\n",
    "                                                  stratify=None,\n",
    "                                                  shuffle=False)"
   ]
  },
  {
   "cell_type": "code",
   "execution_count": 15,
   "metadata": {},
   "outputs": [
    {
     "data": {
      "text/plain": [
       "Index(['address', 'target', 'first_tx_timestamp', 'last_tx_timestamp',\n",
       "       'in_block_number_std', 'from_address_count', 'from_address_nunique',\n",
       "       'in_value_min', 'in_value_mean', 'from_address_count_unique_ratio',\n",
       "       'out_block_number_std', 'to_address_count', 'to_address_nunique',\n",
       "       'out_value_min', 'out_value_mean', 'median_value_eth', 'min_value_eth',\n",
       "       'std_pop_value_eth', 'block_time_span', 'block_std_pop',\n",
       "       'to_in_mean_min', 'to_in_sum_min', 'to_in_sum_median', 'to_in_min_std',\n",
       "       'to_in_block_timespan_median', 'to_in_block_std_median', 'total_tx'],\n",
       "      dtype='object')"
      ]
     },
     "execution_count": 15,
     "metadata": {},
     "output_type": "execute_result"
    }
   ],
   "source": [
    "train_data.columns"
   ]
  },
  {
   "cell_type": "code",
   "execution_count": 16,
   "metadata": {},
   "outputs": [
    {
     "data": {
      "text/html": [
       "<div>\n",
       "<style scoped>\n",
       "    .dataframe tbody tr th:only-of-type {\n",
       "        vertical-align: middle;\n",
       "    }\n",
       "\n",
       "    .dataframe tbody tr th {\n",
       "        vertical-align: top;\n",
       "    }\n",
       "\n",
       "    .dataframe thead th {\n",
       "        text-align: right;\n",
       "    }\n",
       "</style>\n",
       "<table border=\"1\" class=\"dataframe\">\n",
       "  <thead>\n",
       "    <tr style=\"text-align: right;\">\n",
       "      <th></th>\n",
       "      <th>address</th>\n",
       "      <th>target</th>\n",
       "      <th>first_tx_timestamp</th>\n",
       "      <th>last_tx_timestamp</th>\n",
       "      <th>in_block_number_std</th>\n",
       "      <th>from_address_count</th>\n",
       "      <th>from_address_nunique</th>\n",
       "      <th>in_value_min</th>\n",
       "      <th>in_value_mean</th>\n",
       "      <th>from_address_count_unique_ratio</th>\n",
       "      <th>...</th>\n",
       "      <th>std_pop_value_eth</th>\n",
       "      <th>block_time_span</th>\n",
       "      <th>block_std_pop</th>\n",
       "      <th>to_in_mean_min</th>\n",
       "      <th>to_in_sum_min</th>\n",
       "      <th>to_in_sum_median</th>\n",
       "      <th>to_in_min_std</th>\n",
       "      <th>to_in_block_timespan_median</th>\n",
       "      <th>to_in_block_std_median</th>\n",
       "      <th>total_tx</th>\n",
       "    </tr>\n",
       "  </thead>\n",
       "  <tbody>\n",
       "    <tr>\n",
       "      <th>0</th>\n",
       "      <td>0xb0eee1bf305686ecfdaf5ffac67fd7bdaf514d51</td>\n",
       "      <td>0</td>\n",
       "      <td>2015-08-20 04:14:00+00:00</td>\n",
       "      <td>2017-05-24 06:00:00 UTC</td>\n",
       "      <td>5.520404e+05</td>\n",
       "      <td>2</td>\n",
       "      <td>2</td>\n",
       "      <td>0.010000</td>\n",
       "      <td>0.055000</td>\n",
       "      <td>1.000000</td>\n",
       "      <td>...</td>\n",
       "      <td>0.662534</td>\n",
       "      <td>-46.5</td>\n",
       "      <td>926111.031250</td>\n",
       "      <td>1.215715e-01</td>\n",
       "      <td>4.862858e-01</td>\n",
       "      <td>0.763626</td>\n",
       "      <td>0.000000</td>\n",
       "      <td>-52.5</td>\n",
       "      <td>5.562307e+05</td>\n",
       "      <td>6</td>\n",
       "    </tr>\n",
       "    <tr>\n",
       "      <th>1</th>\n",
       "      <td>0x285627b2545b2170e23772824f9938cf4747e7d8</td>\n",
       "      <td>0</td>\n",
       "      <td>2016-01-01 18:57:11+00:00</td>\n",
       "      <td>2017-02-24 19:52:41 UTC</td>\n",
       "      <td>8.815668e+05</td>\n",
       "      <td>4</td>\n",
       "      <td>4</td>\n",
       "      <td>0.178995</td>\n",
       "      <td>0.372496</td>\n",
       "      <td>1.000000</td>\n",
       "      <td>...</td>\n",
       "      <td>1258.417969</td>\n",
       "      <td>50.5</td>\n",
       "      <td>595790.875000</td>\n",
       "      <td>3.170667e+01</td>\n",
       "      <td>9.512000e+01</td>\n",
       "      <td>171.289963</td>\n",
       "      <td>0.000000</td>\n",
       "      <td>0.0</td>\n",
       "      <td>1.255924e+06</td>\n",
       "      <td>7</td>\n",
       "    </tr>\n",
       "    <tr>\n",
       "      <th>2</th>\n",
       "      <td>0x008aff4eeb0f269a004fb75045fb5a8fc3fb34cd</td>\n",
       "      <td>0</td>\n",
       "      <td>2016-02-10 17:52:23+00:00</td>\n",
       "      <td>2016-04-27 08:24:59 UTC</td>\n",
       "      <td>8.370000e+04</td>\n",
       "      <td>164</td>\n",
       "      <td>4</td>\n",
       "      <td>0.100000</td>\n",
       "      <td>0.258350</td>\n",
       "      <td>0.024390</td>\n",
       "      <td>...</td>\n",
       "      <td>2.115101</td>\n",
       "      <td>-59.5</td>\n",
       "      <td>929100.171875</td>\n",
       "      <td>5.115562e+01</td>\n",
       "      <td>6.650231e+02</td>\n",
       "      <td>14782.584961</td>\n",
       "      <td>0.000000</td>\n",
       "      <td>0.0</td>\n",
       "      <td>2.200000e+02</td>\n",
       "      <td>178</td>\n",
       "    </tr>\n",
       "    <tr>\n",
       "      <th>3</th>\n",
       "      <td>0x3032ddc9c13cd61309b6d2103867c01b431bec0f</td>\n",
       "      <td>0</td>\n",
       "      <td>2016-03-02 12:25:04+00:00</td>\n",
       "      <td>2018-08-02 23:46:15 UTC</td>\n",
       "      <td>1.265757e+06</td>\n",
       "      <td>3</td>\n",
       "      <td>2</td>\n",
       "      <td>0.009913</td>\n",
       "      <td>0.246156</td>\n",
       "      <td>0.666667</td>\n",
       "      <td>...</td>\n",
       "      <td>0.266763</td>\n",
       "      <td>-17.0</td>\n",
       "      <td>787858.812500</td>\n",
       "      <td>2.683823e-02</td>\n",
       "      <td>8.051468e-02</td>\n",
       "      <td>1.277427</td>\n",
       "      <td>4.463543</td>\n",
       "      <td>11.0</td>\n",
       "      <td>8.924218e+05</td>\n",
       "      <td>6</td>\n",
       "    </tr>\n",
       "    <tr>\n",
       "      <th>4</th>\n",
       "      <td>0xf5902f7ce99b914ebcf06826788ae4ea921e75a8</td>\n",
       "      <td>0</td>\n",
       "      <td>2016-03-03 05:31:20+00:00</td>\n",
       "      <td>2021-05-05 12:35:42 UTC</td>\n",
       "      <td>1.053530e+06</td>\n",
       "      <td>370</td>\n",
       "      <td>11</td>\n",
       "      <td>0.001956</td>\n",
       "      <td>0.196786</td>\n",
       "      <td>0.029730</td>\n",
       "      <td>...</td>\n",
       "      <td>0.213605</td>\n",
       "      <td>16.0</td>\n",
       "      <td>656527.187500</td>\n",
       "      <td>1.250000e-11</td>\n",
       "      <td>5.000000e-11</td>\n",
       "      <td>3.623143</td>\n",
       "      <td>396.041748</td>\n",
       "      <td>-33.5</td>\n",
       "      <td>1.329198e+06</td>\n",
       "      <td>726</td>\n",
       "    </tr>\n",
       "  </tbody>\n",
       "</table>\n",
       "<p>5 rows × 27 columns</p>\n",
       "</div>"
      ],
      "text/plain": [
       "                                      address  target  \\\n",
       "0  0xb0eee1bf305686ecfdaf5ffac67fd7bdaf514d51       0   \n",
       "1  0x285627b2545b2170e23772824f9938cf4747e7d8       0   \n",
       "2  0x008aff4eeb0f269a004fb75045fb5a8fc3fb34cd       0   \n",
       "3  0x3032ddc9c13cd61309b6d2103867c01b431bec0f       0   \n",
       "4  0xf5902f7ce99b914ebcf06826788ae4ea921e75a8       0   \n",
       "\n",
       "         first_tx_timestamp        last_tx_timestamp  in_block_number_std  \\\n",
       "0 2015-08-20 04:14:00+00:00  2017-05-24 06:00:00 UTC         5.520404e+05   \n",
       "1 2016-01-01 18:57:11+00:00  2017-02-24 19:52:41 UTC         8.815668e+05   \n",
       "2 2016-02-10 17:52:23+00:00  2016-04-27 08:24:59 UTC         8.370000e+04   \n",
       "3 2016-03-02 12:25:04+00:00  2018-08-02 23:46:15 UTC         1.265757e+06   \n",
       "4 2016-03-03 05:31:20+00:00  2021-05-05 12:35:42 UTC         1.053530e+06   \n",
       "\n",
       "   from_address_count  from_address_nunique  in_value_min  in_value_mean  \\\n",
       "0                   2                     2      0.010000       0.055000   \n",
       "1                   4                     4      0.178995       0.372496   \n",
       "2                 164                     4      0.100000       0.258350   \n",
       "3                   3                     2      0.009913       0.246156   \n",
       "4                 370                    11      0.001956       0.196786   \n",
       "\n",
       "   from_address_count_unique_ratio  ...  std_pop_value_eth  block_time_span  \\\n",
       "0                         1.000000  ...           0.662534            -46.5   \n",
       "1                         1.000000  ...        1258.417969             50.5   \n",
       "2                         0.024390  ...           2.115101            -59.5   \n",
       "3                         0.666667  ...           0.266763            -17.0   \n",
       "4                         0.029730  ...           0.213605             16.0   \n",
       "\n",
       "   block_std_pop  to_in_mean_min  to_in_sum_min  to_in_sum_median  \\\n",
       "0  926111.031250    1.215715e-01   4.862858e-01          0.763626   \n",
       "1  595790.875000    3.170667e+01   9.512000e+01        171.289963   \n",
       "2  929100.171875    5.115562e+01   6.650231e+02      14782.584961   \n",
       "3  787858.812500    2.683823e-02   8.051468e-02          1.277427   \n",
       "4  656527.187500    1.250000e-11   5.000000e-11          3.623143   \n",
       "\n",
       "   to_in_min_std  to_in_block_timespan_median  to_in_block_std_median  \\\n",
       "0       0.000000                        -52.5            5.562307e+05   \n",
       "1       0.000000                          0.0            1.255924e+06   \n",
       "2       0.000000                          0.0            2.200000e+02   \n",
       "3       4.463543                         11.0            8.924218e+05   \n",
       "4     396.041748                        -33.5            1.329198e+06   \n",
       "\n",
       "   total_tx  \n",
       "0         6  \n",
       "1         7  \n",
       "2       178  \n",
       "3         6  \n",
       "4       726  \n",
       "\n",
       "[5 rows x 27 columns]"
      ]
     },
     "execution_count": 16,
     "metadata": {},
     "output_type": "execute_result"
    }
   ],
   "source": [
    "train_data.head()"
   ]
  },
  {
   "cell_type": "code",
   "execution_count": 17,
   "metadata": {},
   "outputs": [
    {
     "name": "stderr",
     "output_type": "stream",
     "text": [
      "/tmp/ipykernel_1119/2782097490.py:2: FutureWarning: The default value of numeric_only in DataFrame.corr is deprecated. In a future version, it will default to False. Select only valid columns or specify the value of numeric_only to silence this warning.\n",
      "  sns.heatmap(train_data.corr(), cmap=\"YlGnBu\", annot=False)\n"
     ]
    },
    {
     "data": {
      "text/plain": [
       "<AxesSubplot: >"
      ]
     },
     "execution_count": 17,
     "metadata": {},
     "output_type": "execute_result"
    },
    {
     "data": {
      "image/png": "[encoded data removed]",
      "text/plain": [
       "<Figure size 640x480 with 2 Axes>"
      ]
     },
     "metadata": {},
     "output_type": "display_data"
    }
   ],
   "source": [
    "import seaborn as sns\n",
    "sns.heatmap(train_data.corr(), cmap=\"YlGnBu\", annot=False)\n"
   ]
  },
  {
   "cell_type": "markdown",
   "metadata": {},
   "source": [
    "%%time\n",
    "\n",
    "clf = EasyEnsembleClassifier(n_estimators= 200, #800, \n",
    "                             sampling_strategy=0.1, \n",
    "                             base_estimator=lgb.LGBMClassifier(boosting_type='goss', max_depth=20, random_state=0, n_estimators=200, learning_rate=0.09, num_leaves=500), \n",
    "                             random_state=RANDOM_SEED, \n",
    "                             n_jobs=cpu_count(),verbose=0).fit(X_train, y_train)"
   ]
  },
  {
   "cell_type": "code",
   "execution_count": 18,
   "metadata": {},
   "outputs": [
    {
     "name": "stdout",
     "output_type": "stream",
     "text": [
      "CPU times: user 1min 21s, sys: 22.1 s, total: 1min 43s\n",
      "Wall time: 2min 33s\n"
     ]
    }
   ],
   "source": [
    "%%time\n",
    "# Generate Submission For Test set\n",
    "\n",
    "test_data = generate_features(test_dfs, test_ids, from_out_test, to_in_test)\n",
    "X_test, y_test = get_feature_and_labels(test_data, no_labels=True)"
   ]
  },
  {
   "cell_type": "code",
   "execution_count": 19,
   "metadata": {},
   "outputs": [
    {
     "name": "stdout",
     "output_type": "stream",
     "text": [
      "1 of KFold 5\n"
     ]
    },
    {
     "name": "stderr",
     "output_type": "stream",
     "text": [
      "/usr/local/lib/python3.8/dist-packages/imblearn/ensemble/_easy_ensemble.py:277: FutureWarning: `base_estimator` was renamed to `estimator` in version 0.10 and will be removed in 0.12.\n",
      "  warnings.warn(\n",
      "[Parallel(n_jobs=24)]: Using backend LokyBackend with 24 concurrent workers.\n",
      "[Parallel(n_jobs=24)]: Done   2 out of  24 | elapsed:   34.1s remaining:  6.2min\n",
      "[Parallel(n_jobs=24)]: Done  24 out of  24 | elapsed:   38.1s finished\n",
      "[Parallel(n_jobs=24)]: Using backend LokyBackend with 24 concurrent workers.\n",
      "[Parallel(n_jobs=24)]: Done   2 out of  24 | elapsed:    1.7s remaining:   18.5s\n",
      "[Parallel(n_jobs=24)]: Done  24 out of  24 | elapsed:    6.9s finished\n",
      "[Parallel(n_jobs=24)]: Using backend LokyBackend with 24 concurrent workers.\n"
     ]
    },
    {
     "name": "stdout",
     "output_type": "stream",
     "text": [
      "Average Precision Score: 0.9354664666802753\n",
      "               precision    recall  f1-score   support\n",
      "\n",
      "       normal       0.96      0.97      0.96      2000\n",
      "phishing-scam       0.87      0.85      0.86       538\n",
      "\n",
      "     accuracy                           0.94      2538\n",
      "    macro avg       0.92      0.91      0.91      2538\n",
      " weighted avg       0.94      0.94      0.94      2538\n",
      "\n"
     ]
    },
    {
     "name": "stderr",
     "output_type": "stream",
     "text": [
      "[Parallel(n_jobs=24)]: Done   2 out of  24 | elapsed:   55.2s remaining: 10.1min\n",
      "[Parallel(n_jobs=24)]: Done  24 out of  24 | elapsed:  1.0min finished\n"
     ]
    },
    {
     "name": "stdout",
     "output_type": "stream",
     "text": [
      "2 of KFold 5\n"
     ]
    },
    {
     "name": "stderr",
     "output_type": "stream",
     "text": [
      "/usr/local/lib/python3.8/dist-packages/imblearn/ensemble/_easy_ensemble.py:277: FutureWarning: `base_estimator` was renamed to `estimator` in version 0.10 and will be removed in 0.12.\n",
      "  warnings.warn(\n",
      "[Parallel(n_jobs=24)]: Using backend LokyBackend with 24 concurrent workers.\n",
      "[Parallel(n_jobs=24)]: Done   2 out of  24 | elapsed:   27.5s remaining:  5.0min\n",
      "[Parallel(n_jobs=24)]: Done  24 out of  24 | elapsed:   30.6s finished\n",
      "[Parallel(n_jobs=24)]: Using backend LokyBackend with 24 concurrent workers.\n",
      "[Parallel(n_jobs=24)]: Done   2 out of  24 | elapsed:    1.6s remaining:   17.9s\n",
      "[Parallel(n_jobs=24)]: Done  24 out of  24 | elapsed:    6.9s finished\n",
      "[Parallel(n_jobs=24)]: Using backend LokyBackend with 24 concurrent workers.\n"
     ]
    },
    {
     "name": "stdout",
     "output_type": "stream",
     "text": [
      "Average Precision Score: 0.9339385035690029\n",
      "               precision    recall  f1-score   support\n",
      "\n",
      "       normal       0.96      0.95      0.96      2000\n",
      "phishing-scam       0.84      0.86      0.85       538\n",
      "\n",
      "     accuracy                           0.93      2538\n",
      "    macro avg       0.90      0.91      0.90      2538\n",
      " weighted avg       0.94      0.93      0.94      2538\n",
      "\n"
     ]
    },
    {
     "name": "stderr",
     "output_type": "stream",
     "text": [
      "[Parallel(n_jobs=24)]: Done   2 out of  24 | elapsed:   55.1s remaining: 10.1min\n",
      "[Parallel(n_jobs=24)]: Done  24 out of  24 | elapsed:  1.0min finished\n"
     ]
    },
    {
     "name": "stdout",
     "output_type": "stream",
     "text": [
      "3 of KFold 5\n"
     ]
    },
    {
     "name": "stderr",
     "output_type": "stream",
     "text": [
      "/usr/local/lib/python3.8/dist-packages/imblearn/ensemble/_easy_ensemble.py:277: FutureWarning: `base_estimator` was renamed to `estimator` in version 0.10 and will be removed in 0.12.\n",
      "  warnings.warn(\n",
      "[Parallel(n_jobs=24)]: Using backend LokyBackend with 24 concurrent workers.\n",
      "[Parallel(n_jobs=24)]: Done   2 out of  24 | elapsed:   27.6s remaining:  5.1min\n",
      "[Parallel(n_jobs=24)]: Done  24 out of  24 | elapsed:   30.4s finished\n",
      "[Parallel(n_jobs=24)]: Using backend LokyBackend with 24 concurrent workers.\n",
      "[Parallel(n_jobs=24)]: Done   2 out of  24 | elapsed:    1.6s remaining:   17.8s\n",
      "[Parallel(n_jobs=24)]: Done  24 out of  24 | elapsed:    6.8s finished\n",
      "[Parallel(n_jobs=24)]: Using backend LokyBackend with 24 concurrent workers.\n"
     ]
    },
    {
     "name": "stdout",
     "output_type": "stream",
     "text": [
      "Average Precision Score: 0.9267384488220509\n",
      "               precision    recall  f1-score   support\n",
      "\n",
      "       normal       0.96      0.96      0.96      2000\n",
      "phishing-scam       0.84      0.84      0.84       538\n",
      "\n",
      "     accuracy                           0.93      2538\n",
      "    macro avg       0.90      0.90      0.90      2538\n",
      " weighted avg       0.93      0.93      0.93      2538\n",
      "\n"
     ]
    },
    {
     "name": "stderr",
     "output_type": "stream",
     "text": [
      "[Parallel(n_jobs=24)]: Done   2 out of  24 | elapsed:   55.2s remaining: 10.1min\n",
      "[Parallel(n_jobs=24)]: Done  24 out of  24 | elapsed:  1.0min finished\n",
      "/usr/local/lib/python3.8/dist-packages/imblearn/ensemble/_easy_ensemble.py:277: FutureWarning: `base_estimator` was renamed to `estimator` in version 0.10 and will be removed in 0.12.\n",
      "  warnings.warn(\n",
      "[Parallel(n_jobs=24)]: Using backend LokyBackend with 24 concurrent workers.\n"
     ]
    },
    {
     "name": "stdout",
     "output_type": "stream",
     "text": [
      "4 of KFold 5\n"
     ]
    },
    {
     "name": "stderr",
     "output_type": "stream",
     "text": [
      "[Parallel(n_jobs=24)]: Done   2 out of  24 | elapsed:   27.5s remaining:  5.0min\n",
      "[Parallel(n_jobs=24)]: Done  24 out of  24 | elapsed:   30.7s finished\n",
      "[Parallel(n_jobs=24)]: Using backend LokyBackend with 24 concurrent workers.\n",
      "[Parallel(n_jobs=24)]: Done   2 out of  24 | elapsed:    1.7s remaining:   18.2s\n",
      "[Parallel(n_jobs=24)]: Done  24 out of  24 | elapsed:    6.9s finished\n",
      "[Parallel(n_jobs=24)]: Using backend LokyBackend with 24 concurrent workers.\n"
     ]
    },
    {
     "name": "stdout",
     "output_type": "stream",
     "text": [
      "Average Precision Score: 0.9328847593350644\n",
      "               precision    recall  f1-score   support\n",
      "\n",
      "       normal       0.96      0.96      0.96      2000\n",
      "phishing-scam       0.86      0.86      0.86       538\n",
      "\n",
      "     accuracy                           0.94      2538\n",
      "    macro avg       0.91      0.91      0.91      2538\n",
      " weighted avg       0.94      0.94      0.94      2538\n",
      "\n"
     ]
    },
    {
     "name": "stderr",
     "output_type": "stream",
     "text": [
      "[Parallel(n_jobs=24)]: Done   2 out of  24 | elapsed:   55.1s remaining: 10.1min\n",
      "[Parallel(n_jobs=24)]: Done  24 out of  24 | elapsed:  1.0min finished\n",
      "/usr/local/lib/python3.8/dist-packages/imblearn/ensemble/_easy_ensemble.py:277: FutureWarning: `base_estimator` was renamed to `estimator` in version 0.10 and will be removed in 0.12.\n",
      "  warnings.warn(\n",
      "[Parallel(n_jobs=24)]: Using backend LokyBackend with 24 concurrent workers.\n"
     ]
    },
    {
     "name": "stdout",
     "output_type": "stream",
     "text": [
      "5 of KFold 5\n"
     ]
    },
    {
     "name": "stderr",
     "output_type": "stream",
     "text": [
      "[Parallel(n_jobs=24)]: Done   2 out of  24 | elapsed:   27.2s remaining:  5.0min\n",
      "[Parallel(n_jobs=24)]: Done  24 out of  24 | elapsed:   30.1s finished\n",
      "[Parallel(n_jobs=24)]: Using backend LokyBackend with 24 concurrent workers.\n",
      "[Parallel(n_jobs=24)]: Done   2 out of  24 | elapsed:    1.6s remaining:   17.7s\n",
      "[Parallel(n_jobs=24)]: Done  24 out of  24 | elapsed:    6.9s finished\n",
      "[Parallel(n_jobs=24)]: Using backend LokyBackend with 24 concurrent workers.\n"
     ]
    },
    {
     "name": "stdout",
     "output_type": "stream",
     "text": [
      "Average Precision Score: 0.9388077675297408\n",
      "               precision    recall  f1-score   support\n",
      "\n",
      "       normal       0.96      0.96      0.96      2000\n",
      "phishing-scam       0.86      0.86      0.86       538\n",
      "\n",
      "     accuracy                           0.94      2538\n",
      "    macro avg       0.91      0.91      0.91      2538\n",
      " weighted avg       0.94      0.94      0.94      2538\n",
      "\n"
     ]
    },
    {
     "name": "stderr",
     "output_type": "stream",
     "text": [
      "[Parallel(n_jobs=24)]: Done   2 out of  24 | elapsed:   54.7s remaining: 10.0min\n"
     ]
    },
    {
     "name": "stdout",
     "output_type": "stream",
     "text": [
      "CPU times: user 8min 47s, sys: 29.2 s, total: 9min 17s\n",
      "Wall time: 8min 21s\n"
     ]
    },
    {
     "name": "stderr",
     "output_type": "stream",
     "text": [
      "[Parallel(n_jobs=24)]: Done  24 out of  24 | elapsed:  1.0min finished\n"
     ]
    }
   ],
   "source": [
    "%%time\n",
    "target_names = ['normal', 'phishing-scam']\n",
    "\n",
    "from sklearn.model_selection import StratifiedKFold\n",
    "FOLDS= 3\n",
    "\n",
    "kf = StratifiedKFold(n_splits=FOLDS,shuffle=True,random_state=42)\n",
    "pred_test_full =0\n",
    "cv_score =[]\n",
    "i=1\n",
    "for train_index,test_index in kf.split(X,y):\n",
    "    print('{} of KFold {}'.format(i,kf.n_splits))\n",
    "    xtr,xvl = X.loc[train_index],X.loc[test_index]\n",
    "    ytr,yvl = y.loc[train_index],y.loc[test_index]\n",
    "    \n",
    "    #model\n",
    "    clf = EasyEnsembleClassifier(n_estimators= 200, #800, \n",
    "                             sampling_strategy=0.5, \n",
    "                             base_estimator=lgb.LGBMClassifier(boosting_type='goss', max_depth=20, random_state=0, n_estimators=200, learning_rate=0.09, num_leaves=500), \n",
    "                             random_state=RANDOM_SEED, \n",
    "                             n_jobs=cpu_count(),verbose=1).fit(xtr, ytr)\n",
    "    y_val_preds= np.array([class_proba[1] for class_proba in clf.predict_proba(xvl)])\n",
    "    score = average_precision_score(yvl,y_val_preds)   \n",
    "    print(f\"Average Precision Score: {average_precision_score(yvl, y_val_preds)}\")\n",
    "    print(classification_report(yvl, y_val_preds >= 0.5, target_names=target_names))\n",
    "    cv_score.append(score)    \n",
    "    pred_test = np.array([class_proba[1] for class_proba in clf.predict_proba(X_test)])\n",
    "    pred_test_full +=pred_test\n",
    "    i+=1"
   ]
  },
  {
   "cell_type": "code",
   "execution_count": 20,
   "metadata": {},
   "outputs": [
    {
     "data": {
      "text/plain": [
       "['sept-18-2022-easy-ensemble-2_lgbm.joblib']"
      ]
     },
     "execution_count": 20,
     "metadata": {},
     "output_type": "execute_result"
    }
   ],
   "source": [
    "from joblib import dump, load\n",
    "\n",
    "dump(clf, 'sept-18-2022-easy-ensemble-2_lgbm.joblib') "
   ]
  },
  {
   "cell_type": "code",
   "execution_count": 21,
   "metadata": {},
   "outputs": [
    {
     "name": "stdout",
     "output_type": "stream",
     "text": [
      "[0.00890747 0.00031162 0.03677183 ... 0.00059752 0.00073068 0.00091835]\n"
     ]
    }
   ],
   "source": [
    "print(pred_test_full/3)"
   ]
  },
  {
   "cell_type": "code",
   "execution_count": 22,
   "metadata": {},
   "outputs": [
    {
     "name": "stdout",
     "output_type": "stream",
     "text": [
      "CPU times: user 5.65 ms, sys: 144 µs, total: 5.79 ms\n",
      "Wall time: 4.35 ms\n"
     ]
    }
   ],
   "source": [
    "%%time\n",
    "submission = test_data[['Id']].copy()\n",
    "submission['Predicted'] = pred_test_full/FOLDS"
   ]
  },
  {
   "cell_type": "code",
   "execution_count": 24,
   "metadata": {},
   "outputs": [],
   "source": [
    "submission.to_csv(f'benchmark_submission_lgbm_latef{FOLDS}.csv', index=None)"
   ]
  },
  {
   "cell_type": "code",
   "execution_count": null,
   "metadata": {},
   "outputs": [],
   "source": [
    "%%timeit\n",
    "# Calculate prediction latency\n",
    "\n",
    "clf.predict_proba(X_test.sample(1))"
   ]
  },
  {
   "cell_type": "markdown",
   "metadata": {},
   "source": [
    "## Areas of Improvement\n",
    "\n",
    "1. Replace base estimator Xgboost with [lightGBM](https://github.com/microsoft/LightGBM) to reduce prediction latency (See [Which algorithm takes the crown: Light GBM vs XGBOOST?](https://www.analyticsvidhya.com/blog/2017/06/which-algorithm-takes-the-crown-light-gbm-vs-xgboost/)).\n",
    "2. As mentioned in the data cleaning section of “Phishing Scam Detection on Ethereum: Towards Financial Security for Blockchain Ecosystem.”, remove Smart Contract transactions from training data. \n",
    "\n",
    "> 4.2 Data Cleaning - First of all, smart contracts often have complex logic and are not convenient for phishing scams. Furthermore, smart contracts account for very little in the phishing addresses (i.e., 2.6%), and they usually relate to tokens."
   ]
  },
  {
   "cell_type": "code",
   "execution_count": null,
   "metadata": {},
   "outputs": [],
   "source": []
  },
  {
   "cell_type": "code",
   "execution_count": null,
   "metadata": {},
   "outputs": [],
   "source": []
  }
 ],
 "metadata": {
  "kernelspec": {
   "display_name": "Python 3 (ipykernel)",
   "language": "python",
   "name": "python3"
  },
  "language_info": {
   "codemirror_mode": {
    "name": "ipython",
    "version": 3
   },
   "file_extension": ".py",
   "mimetype": "text/x-python",
   "name": "python",
   "nbconvert_exporter": "python",
   "pygments_lexer": "ipython3",
   "version": "3.8.10"
  }
 },
 "nbformat": 4,
 "nbformat_minor": 4
}
